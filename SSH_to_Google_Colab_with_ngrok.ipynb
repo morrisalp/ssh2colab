{
  "nbformat": 4,
  "nbformat_minor": 0,
  "metadata": {
    "colab": {
      "name": "SSH to Google Colab with ngrok.ipynb",
      "provenance": [],
      "collapsed_sections": [],
      "authorship_tag": "ABX9TyOTToESmqGVF8H/5pKoG637",
      "include_colab_link": true
    },
    "kernelspec": {
      "name": "python3",
      "display_name": "Python 3"
    }
  },
  "cells": [
    {
      "cell_type": "markdown",
      "metadata": {
        "id": "view-in-github",
        "colab_type": "text"
      },
      "source": [
        "<a href=\"https://colab.research.google.com/github/morrisalp/ssh2colab/blob/main/SSH_to_Google_Colab_with_ngrok.ipynb\" target=\"_parent\"><img src=\"https://colab.research.google.com/assets/colab-badge.svg\" alt=\"Open In Colab\"/></a>"
      ]
    },
    {
      "cell_type": "code",
      "metadata": {
        "id": "mQBovEyJdhgo"
      },
      "source": [
        "from getpass import getpass\n",
        "\n",
        "print('Enter ngrok auth token:')\n",
        "with open('.authtoken', 'w') as f:\n",
        "  f.write(getpass()) # copy from https://dashboard.ngrok.com/auth/your-authtoken\n",
        "\n",
        "print('Set SSH password:')\n",
        "with open('.password', 'w') as f:\n",
        "  f.write(getpass())"
      ],
      "execution_count": null,
      "outputs": []
    },
    {
      "cell_type": "code",
      "metadata": {
        "id": "mJsC2YIHVQac"
      },
      "source": [
        "%%shell\n",
        "apt-get install openssh-server jq\n",
        "pushd /usr/local/bin\n",
        "wget -c -nc https://bin.equinox.io/c/4VmDzA7iaHb/ngrok-stable-linux-amd64.zip\n",
        "unzip -n *.zip\n",
        "popd\n",
        "echo \"PermitRootLogin yes\" >> /etc/ssh/sshd_config\n",
        "echo \"PasswordAuthentication yes\" >> /etc/ssh/sshd_config\n",
        "service ssh start\n",
        "ngrok authtoken $(cat .authtoken)\n",
        "echo root:$(cat .password) | chpasswd\n",
        "nohup ngrok tcp 22 &"
      ],
      "execution_count": null,
      "outputs": []
    },
    {
      "cell_type": "code",
      "metadata": {
        "id": "B4IqOgl0pGQe"
      },
      "source": [
        "# Run this cell once ngrok has started\n",
        "tcp_url = ! curl http://localhost:4040/api/tunnels 2>/dev/null | \\\n",
        "            jq -r '.tunnels[0].public_url'\n",
        "tcp_url = tcp_url[0]\n",
        "(host, port) = tcp_url.lstrip('tcp://').split(':')\n",
        "print(f'TCP URL: {tcp_url}')\n",
        "print(f'SSH command: ssh -p{port} root@{host}')"
      ],
      "execution_count": null,
      "outputs": []
    }
  ]
}